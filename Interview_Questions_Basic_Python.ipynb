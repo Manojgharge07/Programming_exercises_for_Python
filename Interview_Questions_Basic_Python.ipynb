{
  "nbformat": 4,
  "nbformat_minor": 0,
  "metadata": {
    "colab": {
      "name": "Interview_Questions_Basic_Python.ipynb",
      "provenance": [],
      "authorship_tag": "ABX9TyO9GQdNPbPM/XgVI2rbVU4Z",
      "include_colab_link": true
    },
    "kernelspec": {
      "name": "python3",
      "display_name": "Python 3"
    },
    "language_info": {
      "name": "python"
    }
  },
  "cells": [
    {
      "cell_type": "markdown",
      "metadata": {
        "id": "view-in-github",
        "colab_type": "text"
      },
      "source": [
        "<a href=\"https://colab.research.google.com/github/Manojgharge07/Programming_exercises_for_Python/blob/main/Interview_Questions_Basic_Python.ipynb\" target=\"_parent\"><img src=\"https://colab.research.google.com/assets/colab-badge.svg\" alt=\"Open In Colab\"/></a>"
      ]
    },
    {
      "cell_type": "markdown",
      "source": [
        "# **Interview Questions : Basic Python**\n",
        "\n",
        "# Q1. Python program to check if a string is palindrome or not\n",
        "\n",
        "Given a string, write a python function to check if it is palindrome or not. A string is said to be palindrome if the reverse of the string is the same as string. For example, “radar” is a palindrome, but “radix” is not a palindrome.\n",
        "\n",
        "Method #1\n",
        "\n",
        "1)Find reverse of string\n",
        "\n",
        "2)Check if reverse and original are same or not."
      ],
      "metadata": {
        "id": "SwOTffUIueZq"
      }
    },
    {
      "cell_type": "code",
      "execution_count": null,
      "metadata": {
        "colab": {
          "base_uri": "https://localhost:8080/"
        },
        "id": "-Mnc9NPXoCn-",
        "outputId": "e9684656-91c0-4afc-aa90-1c31bcc6ccd3"
      },
      "outputs": [
        {
          "output_type": "stream",
          "name": "stdout",
          "text": [
            "Yes\n"
          ]
        }
      ],
      "source": [
        "def isPallindrome(a):\n",
        "  return a == a[::-1]\n",
        "\n",
        "a = 'malayalam'\n",
        "a1 = isPallindrome(a)\n",
        "\n",
        "if a1:\n",
        "  print(\"Yes\")\n",
        "\n",
        "else:\n",
        "  print(\"No\")"
      ]
    },
    {
      "cell_type": "code",
      "source": [
        "def isPallindrome(a):\n",
        "  return a == a[::-1]\n",
        "\n",
        "a = \"nitin\"\n",
        "a1 = isPallindrome(a)\n",
        "\n",
        "if a1:\n",
        "  print(\"it is correct\")\n",
        "\n",
        "else:\n",
        "  print(\"is not\")"
      ],
      "metadata": {
        "colab": {
          "base_uri": "https://localhost:8080/"
        },
        "id": "kCEkASaepipu",
        "outputId": "9dc36d0a-62e3-469c-9d67-f6db9db946ed"
      },
      "execution_count": null,
      "outputs": [
        {
          "output_type": "stream",
          "name": "stdout",
          "text": [
            "it is correct\n"
          ]
        }
      ]
    },
    {
      "cell_type": "code",
      "source": [
        "def isPallindrome(a):\n",
        "  return a == a[::-1]\n",
        "\n",
        "a = \"mayuresh\"\n",
        "a1 = isPallindrome(a)\n",
        "\n",
        "if a1:\n",
        "  print(\"it is correct\")\n",
        "\n",
        "else:\n",
        "  print(\"is not\")"
      ],
      "metadata": {
        "colab": {
          "base_uri": "https://localhost:8080/"
        },
        "id": "y_vKcMfFqwqO",
        "outputId": "23ebd473-2e89-4cf4-da91-f9974782bde8"
      },
      "execution_count": null,
      "outputs": [
        {
          "output_type": "stream",
          "name": "stdout",
          "text": [
            "is not\n"
          ]
        }
      ]
    },
    {
      "cell_type": "code",
      "source": [
        "def isPallindrome(m):\n",
        "  return m == m[::-1]\n",
        "\n",
        "m = \"civic\"\n",
        "m1 = isPallindrome(m)\n",
        "\n",
        "if m1:\n",
        "  print(\"Yes\")\n",
        "\n",
        "else:\n",
        "  print(\"No\")"
      ],
      "metadata": {
        "colab": {
          "base_uri": "https://localhost:8080/"
        },
        "id": "_XZwjQBLq3WW",
        "outputId": "5291cbeb-7a50-4dfb-ae59-c9ef3c4cf6ea"
      },
      "execution_count": null,
      "outputs": [
        {
          "output_type": "stream",
          "name": "stdout",
          "text": [
            "Yes\n"
          ]
        }
      ]
    },
    {
      "cell_type": "markdown",
      "source": [
        "Method using the inbuilt function to reverse a string: In this method, predefined function ‘ ‘.join(reversed(string)) is used to reverse string."
      ],
      "metadata": {
        "id": "pK09M_SXvWT5"
      }
    },
    {
      "cell_type": "code",
      "source": [
        "def isPallindrome(s):\n",
        "  rev = ''.join(reversed(s))\n",
        "\n",
        "  if (s== rev):\n",
        "    return True\n",
        "  return False\n",
        "\n",
        "s = \"level\"\n",
        "s1 = isPallindrome(s)\n",
        "\n",
        "if s1:\n",
        "  print(\"Yes\")\n",
        "\n",
        "else:\n",
        "  print(\"No\")"
      ],
      "metadata": {
        "colab": {
          "base_uri": "https://localhost:8080/"
        },
        "id": "lOdETmfyz8ki",
        "outputId": "af4d0268-5d56-443e-aea7-195adb1b510e"
      },
      "execution_count": null,
      "outputs": [
        {
          "output_type": "stream",
          "name": "stdout",
          "text": [
            "Yes\n"
          ]
        }
      ]
    },
    {
      "cell_type": "markdown",
      "source": [
        "Iterative Method: Run a loop from starting to length/2 and check the first character to the last character of the string and second to second last one and so on …. If any character mismatches, the string wouldn’t be a palindrome."
      ],
      "metadata": {
        "id": "4F1uHbp9vi_2"
      }
    },
    {
      "cell_type": "code",
      "source": [
        "# function to check string is\n",
        "# palindrome or not\n",
        "def isPalindrome(str):\n",
        " \n",
        "    # Run loop from 0 to len/2\n",
        "    for i in range(0, int(len(str)/2)):\n",
        "        if str[i] != str[len(str)-i-1]:\n",
        "            return False\n",
        "    return True\n",
        " \n",
        "# main function\n",
        "s = \"malayalam\"\n",
        "ans = isPalindrome(s)\n",
        " \n",
        "if (ans):\n",
        "    print(\"Yes\")\n",
        "else:\n",
        "    print(\"No\")"
      ],
      "metadata": {
        "id": "YGWYxbYq6Ep7",
        "colab": {
          "base_uri": "https://localhost:8080/"
        },
        "outputId": "a4fc46f7-44e6-46eb-fffa-eb00d7771afc"
      },
      "execution_count": 1,
      "outputs": [
        {
          "output_type": "stream",
          "name": "stdout",
          "text": [
            "Yes\n"
          ]
        }
      ]
    },
    {
      "cell_type": "code",
      "source": [
        "def isPalindrome(str):\n",
        "  for i in range(0,int(len(str)/2)):\n",
        "    if str[i] != str [len(str)-i-1]:\n",
        "      return False\n",
        "  return True\n",
        "\n",
        "\n",
        "s = \"Pune\"\n",
        "\n",
        "ans = isPalindrome(s)\n",
        "\n",
        "if (ans):\n",
        "  print(\"YES\")\n",
        "else:\n",
        "  print(\"NO\")"
      ],
      "metadata": {
        "colab": {
          "base_uri": "https://localhost:8080/"
        },
        "id": "79Kg9gytv_jx",
        "outputId": "210ced1d-0eaf-48d9-c44d-99b32b27c183"
      },
      "execution_count": 2,
      "outputs": [
        {
          "output_type": "stream",
          "name": "stdout",
          "text": [
            "NO\n"
          ]
        }
      ]
    },
    {
      "cell_type": "markdown",
      "source": [
        "Method using one extra variable: In this method, the user takes a character of string one by one and store it in an empty variable. After storing all the characters user will compare both the string and check whether it is palindrome or not."
      ],
      "metadata": {
        "id": "EG8AjvlGwrM5"
      }
    },
    {
      "cell_type": "code",
      "source": [
        "\n",
        "# Python program to check\n",
        "# if a string is palindrome\n",
        "# or not\n",
        "\n",
        "x = \"malayalam\"\n",
        "\n",
        "y = \"\"\n",
        "\n",
        "for i in x:\n",
        "  y= i+y\n",
        "\n",
        "if (x == y):\n",
        "  print(\"Yes\")\n",
        "else:\n",
        "  print(\"No\")  "
      ],
      "metadata": {
        "colab": {
          "base_uri": "https://localhost:8080/"
        },
        "id": "St8VaY71wW07",
        "outputId": "77f0b842-f5df-4095-8294-776de6321825"
      },
      "execution_count": 4,
      "outputs": [
        {
          "output_type": "stream",
          "name": "stdout",
          "text": [
            "Yes\n"
          ]
        }
      ]
    },
    {
      "cell_type": "markdown",
      "source": [
        "Method using flag: In this method, the user compares each character from starting and ending in a for loop and if the character does not match then it will change the status of the flag. Then it will check the status of the flag and accordingly and print whether it is a palindrome or not. "
      ],
      "metadata": {
        "id": "-AsHx4AGymrP"
      }
    },
    {
      "cell_type": "code",
      "source": [
        "# Python program to check\n",
        "# if a string is palindrome\n",
        "# or not\n",
        "st = 'malayalam'\n",
        "j = -1\n",
        "flag = 0\n",
        "for i in st:\n",
        "    if i != st[j]:\n",
        "        flag = 1\n",
        "        break\n",
        "    j = j - 1\n",
        "if flag == 1:\n",
        "    print(\"NO\")\n",
        "else:\n",
        "    print(\"Yes\")"
      ],
      "metadata": {
        "colab": {
          "base_uri": "https://localhost:8080/"
        },
        "id": "mo5mbUqtyCyC",
        "outputId": "efc574b0-f65a-4d1b-9c40-e59fc61771eb"
      },
      "execution_count": 5,
      "outputs": [
        {
          "output_type": "stream",
          "name": "stdout",
          "text": [
            "Yes\n"
          ]
        }
      ]
    },
    {
      "cell_type": "markdown",
      "source": [
        "Method using recursion: \n",
        "\n",
        "This method compares the first and the last element of the string and gives the rest of the substring to a recursive call to itself. "
      ],
      "metadata": {
        "id": "qDCPywfzzAZL"
      }
    },
    {
      "cell_type": "code",
      "source": [
        "# Recursive function to check if a\n",
        "# string is palindrome\n",
        "def isPalindrome(s):\n",
        " \n",
        "    # to change it the string is similar case\n",
        "    s = s.lower()\n",
        "    # length of s\n",
        "    l = len(s)\n",
        " \n",
        "    # if length is less than 2\n",
        "    if l < 2:\n",
        "        return True\n",
        " \n",
        "    # If s[0] and s[l-1] are equal\n",
        "    elif s[0] == s[l - 1]:\n",
        " \n",
        "        # Call is palindrome form substring(1,l-1)\n",
        "        return isPalindrome(s[1: l - 1])\n",
        " \n",
        "    else:\n",
        "        return False\n",
        " \n",
        "# Driver Code\n",
        "s = \"MalaYaLam\"\n",
        "ans = isPalindrome(s)\n",
        " \n",
        "if ans:\n",
        "    print(\"Yes\")\n",
        " \n",
        "else:\n",
        "    print(\"No\")"
      ],
      "metadata": {
        "colab": {
          "base_uri": "https://localhost:8080/"
        },
        "id": "KSjNtmeJy6YS",
        "outputId": "66039dc5-5a43-4b10-86b7-e819e6061a91"
      },
      "execution_count": 6,
      "outputs": [
        {
          "output_type": "stream",
          "name": "stdout",
          "text": [
            "Yes\n"
          ]
        }
      ]
    },
    {
      "cell_type": "markdown",
      "source": [
        "# **Q2.Remove all duplicates from a given string in Python**"
      ],
      "metadata": {
        "id": "KOlnJ1ZuzQXD"
      }
    },
    {
      "cell_type": "code",
      "source": [
        "from collections import OrderedDict\n",
        "\n",
        "def removeDupWithoutOrder(a):\n",
        "  return \"\".join(set(a))\n",
        "\n",
        "def removeDupWithoutOrder(a):\n",
        "  return \"\".join(OrderedDict.fromkeys(a))\n",
        "\n",
        "if __name__ == \"__main__\":\n",
        "    a = \"geeksforgeeks\"\n",
        "    print (\"Without Order = \",removeDupWithoutOrder(a))\n",
        "    print (\"With Order = \",removeDupWithoutOrder(a))"
      ],
      "metadata": {
        "colab": {
          "base_uri": "https://localhost:8080/"
        },
        "id": "GdX0d53lzMHM",
        "outputId": "60daac7d-9e23-47f4-9937-777408011580"
      },
      "execution_count": 7,
      "outputs": [
        {
          "output_type": "stream",
          "name": "stdout",
          "text": [
            "Without Order =  geksfor\n",
            "With Order =  geksfor\n"
          ]
        }
      ]
    },
    {
      "cell_type": "code",
      "source": [
        "from collections import OrderedDict\n",
        " \n",
        "# Function to remove all duplicates from string\n",
        "# and order does not matter\n",
        "def removeDupWithoutOrder(str):\n",
        " \n",
        "    # set() --> A Set is an unordered collection\n",
        "    #         data type that is iterable, mutable,\n",
        "    #         and has no duplicate elements.\n",
        "    # \"\".join() --> It joins two adjacent elements in\n",
        "    #             iterable with any symbol defined in\n",
        "    #             \"\" ( double quotes ) and returns a\n",
        "    #             single string\n",
        "    return \"\".join(set(str))\n",
        " \n",
        "# Function to remove all duplicates from string\n",
        "# and keep the order of characters same\n",
        "def removeDupWithOrder(str):\n",
        "    return \"\".join(OrderedDict.fromkeys(str))\n",
        " \n",
        "# Driver program\n",
        "if __name__ == \"__main__\":\n",
        "    str = \"geeksforgeeks\"\n",
        "    print (\"Without Order = \",removeDupWithoutOrder(str))\n",
        "    print (\"With Order = \",removeDupWithOrder(str))"
      ],
      "metadata": {
        "colab": {
          "base_uri": "https://localhost:8080/"
        },
        "id": "JutKsu69z884",
        "outputId": "e9a7b2ce-9b59-4d0e-c839-2f8d613b9cd0"
      },
      "execution_count": 8,
      "outputs": [
        {
          "output_type": "stream",
          "name": "stdout",
          "text": [
            "Without Order =  rsofkeg\n",
            "With Order =  geksfor\n"
          ]
        }
      ]
    },
    {
      "cell_type": "markdown",
      "source": [
        "# What do OrderedDict and fromkeys() do ?\n",
        "\n",
        "An OrderedDict is a dictionary that remembers the order of the keys that were inserted first. If a new entry overwrites an existing entry, the original insertion position is left unchanged."
      ],
      "metadata": {
        "id": "N1n__xSr0Spe"
      }
    },
    {
      "cell_type": "code",
      "source": [
        "from collections import OrderedDict\n",
        " \n",
        "ordinary_dictionary = {}\n",
        "ordinary_dictionary['a'] = 1\n",
        "ordinary_dictionary['b'] = 2\n",
        "ordinary_dictionary['c'] = 3\n",
        "ordinary_dictionary['d'] = 4\n",
        "ordinary_dictionary['e'] = 5\n",
        " \n",
        "# Output = {'a': 1, 'c': 3, 'b': 2, 'e': 5, 'd': 4}\n",
        "print (ordinary_dictionary)    \n",
        " \n",
        "ordered_dictionary = OrderedDict()\n",
        "ordered_dictionary['a'] = 1\n",
        "ordered_dictionary['b'] = 2\n",
        "ordered_dictionary['c'] = 3\n",
        "ordered_dictionary['d'] = 4\n",
        "ordered_dictionary['e'] = 5\n",
        " \n",
        "# Output = {'a':1,'b':2,'c':3,'d':4,'e':5}\n",
        "print (ordered_dictionary)  "
      ],
      "metadata": {
        "colab": {
          "base_uri": "https://localhost:8080/"
        },
        "id": "YHTahsLX1jAr",
        "outputId": "ed4c7b1f-389c-4757-9d40-da4b2d7124a5"
      },
      "execution_count": 25,
      "outputs": [
        {
          "output_type": "stream",
          "name": "stdout",
          "text": [
            "{'a': 1, 'b': 2, 'c': 3, 'd': 4, 'e': 5}\n",
            "OrderedDict([('a', 1), ('b', 2), ('c', 3), ('d', 4), ('e', 5)])\n"
          ]
        }
      ]
    },
    {
      "cell_type": "markdown",
      "source": [
        "# **Q3.Python Program for Bubble Sort**\n",
        "\n",
        "# Bubble Sort is the simplest sorting algorithm that works by repeatedly swapping the adjacent elements if they are in the wrong order."
      ],
      "metadata": {
        "id": "XcwE-Ggn6x0F"
      }
    },
    {
      "cell_type": "code",
      "source": [
        "# Python program for implementation of Bubble Sort\n",
        " \n",
        "def bubbleSort(arr):\n",
        "    n = len(arr)\n",
        "    # optimize code, so if the array is already sorted, it doesn't need\n",
        "    # to go through the entire process\n",
        "    swapped = False\n",
        "    # Traverse through all array elements\n",
        "    for i in range(n-1):\n",
        "        # range(n) also work but outer loop will\n",
        "        # repeat one time more than needed.\n",
        "        # Last i elements are already in place\n",
        "        for j in range(0, n-i-1):\n",
        " \n",
        "            # traverse the array from 0 to n-i-1\n",
        "            # Swap if the element found is greater\n",
        "            # than the next element\n",
        "            if arr[j] > arr[j + 1]:\n",
        "                swapped = True\n",
        "                arr[j], arr[j + 1] = arr[j + 1], arr[j]\n",
        "         \n",
        "        if not swapped:\n",
        "            # if we haven't needed to make a single swap, we\n",
        "            # can just exit the main loop.\n",
        "            return\n",
        " \n",
        " \n",
        "# Driver code to test above\n",
        "arr = [64, 34, 25, 12, 22, 11, 90]\n",
        " \n",
        "bubbleSort(arr)\n",
        " \n",
        "print(\"Sorted array is:\")\n",
        "for i in range(len(arr)):\n",
        "    print(\"% d\" % arr[i], end=\" \")"
      ],
      "metadata": {
        "colab": {
          "base_uri": "https://localhost:8080/"
        },
        "id": "hUief1W66kYn",
        "outputId": "19457668-6a63-444a-c46b-3c2b6854b562"
      },
      "execution_count": 27,
      "outputs": [
        {
          "output_type": "stream",
          "name": "stdout",
          "text": [
            "Sorted array is:\n",
            " 11  12  22  25  34  64  90 "
          ]
        }
      ]
    },
    {
      "cell_type": "code",
      "source": [
        "def bubblesort(elements):\n",
        "    swapped = False\n",
        "    # Looping from size of array from last index[-1] to index [0]\n",
        "    for n in range(len(elements)-1, 0, -1):\n",
        "        for i in range(n):\n",
        "            if elements[i] > elements[i + 1]:\n",
        "                swapped = True\n",
        "                # swapping data if the element is less than next element in the array\n",
        "                elements[i], elements[i + 1] = elements[i + 1], elements[i]       \n",
        "        if not swapped:\n",
        "            # exiting the function if we didn't make a single swap\n",
        "            # meaning that the array is already sorted.\n",
        "            return\n",
        " \n",
        "elements = [39, 12, 18, 85, 72, 10, 2, 18]\n",
        " \n",
        "print(\"Unsorted list is,\")\n",
        "print(elements)\n",
        "bubblesort(elements)\n",
        "print(\"Sorted Array is, \")\n",
        "print(elements)"
      ],
      "metadata": {
        "colab": {
          "base_uri": "https://localhost:8080/"
        },
        "id": "j0BgBdp77G96",
        "outputId": "d8483e46-6b28-4c8d-d881-532afe2f469f"
      },
      "execution_count": 28,
      "outputs": [
        {
          "output_type": "stream",
          "name": "stdout",
          "text": [
            "Unsorted list is,\n",
            "[39, 12, 18, 85, 72, 10, 2, 18]\n",
            "Sorted Array is, \n",
            "[2, 10, 12, 18, 18, 39, 72, 85]\n"
          ]
        }
      ]
    },
    {
      "cell_type": "markdown",
      "source": [
        "# **Q4.Print an Inverted Star Pattern**"
      ],
      "metadata": {
        "id": "prrkS77V7brf"
      }
    },
    {
      "cell_type": "code",
      "source": [
        "# python 3 code to print inverted star\n",
        "# pattern \n",
        "  \n",
        "# n is the number of rows in which\n",
        "# star is going to be printed.\n",
        "n = 11\n",
        "for i in range (n, 0, -1):\n",
        "    print( * ' ' + i * '*')"
      ],
      "metadata": {
        "colab": {
          "base_uri": "https://localhost:8080/"
        },
        "id": "FgaR7ZPw7U2l",
        "outputId": "3584fca4-2a3b-4453-c824-c1af01a66f13"
      },
      "execution_count": 29,
      "outputs": [
        {
          "output_type": "stream",
          "name": "stdout",
          "text": [
            "  * * * * * * * * * * *\n",
            "  * * * * * * * * * *\n",
            "  * * * * * * * * *\n",
            "  * * * * * * * *\n",
            "  * * * * * * *\n",
            "  * * * * * *\n",
            "  * * * * *\n",
            "  * * * *\n",
            "  * * *\n",
            "  * *\n",
            "  *\n"
          ]
        }
      ]
    },
    {
      "cell_type": "code",
      "source": [
        "# python 3 code to print inverted star\n",
        "# pattern \n",
        "  \n",
        "# n is the number of rows in which\n",
        "# star is going to be printed.\n",
        "n = 7\n",
        "for i in range (n, 0, -1):\n",
        "    print( * ' ' + i * '*')"
      ],
      "metadata": {
        "colab": {
          "base_uri": "https://localhost:8080/"
        },
        "id": "ZoWMjCmD8CaE",
        "outputId": "3477ffae-4dec-40f7-c1eb-f5e164ba22c1"
      },
      "execution_count": 1,
      "outputs": [
        {
          "output_type": "stream",
          "name": "stdout",
          "text": [
            "  * * * * * * *\n",
            "  * * * * * *\n",
            "  * * * * *\n",
            "  * * * *\n",
            "  * * *\n",
            "  * *\n",
            "  *\n"
          ]
        }
      ]
    },
    {
      "cell_type": "code",
      "source": [
        "# python 3 code to print inverted star\n",
        "# pattern \n",
        "  \n",
        "# n is the number of rows in which\n",
        "# star is going to be printed.\n",
        "n=11\n",
        "  \n",
        "# i is going to be enabled to\n",
        "# range between n-i t 0 with a\n",
        "# decrement of 1 with each iteration.\n",
        "# and in print function, for each iteration,\n",
        "# ” ” is multiplied with n-i and ‘*’ is\n",
        "# multiplied with i to create correct\n",
        "# space before of the stars.\n",
        "for i in range (n, 0, -1):\n",
        "    print((n-i) * ' ' + i * '*')"
      ],
      "metadata": {
        "colab": {
          "base_uri": "https://localhost:8080/"
        },
        "id": "Mm-F9hwTW4jB",
        "outputId": "ea4f41a2-6431-4023-da2d-5705ae74da62"
      },
      "execution_count": 3,
      "outputs": [
        {
          "output_type": "stream",
          "name": "stdout",
          "text": [
            "***********\n",
            " **********\n",
            "  *********\n",
            "   ********\n",
            "    *******\n",
            "     ******\n",
            "      *****\n",
            "       ****\n",
            "        ***\n",
            "         **\n",
            "          *\n"
          ]
        }
      ]
    },
    {
      "cell_type": "code",
      "source": [
        "# python 3 code to print inverted star\n",
        "# pattern \n",
        "  \n",
        "# n is the number of rows in which\n",
        "# star is going to be printed.\n",
        "n = 7\n",
        "for i in range (n, 0, -1):\n",
        "    print((n-i) * ' ' + i * '*')"
      ],
      "metadata": {
        "colab": {
          "base_uri": "https://localhost:8080/"
        },
        "id": "kbd6IKjXX_f5",
        "outputId": "8be1afa4-5306-4bfc-d690-d83189730337"
      },
      "execution_count": 4,
      "outputs": [
        {
          "output_type": "stream",
          "name": "stdout",
          "text": [
            "*******\n",
            " ******\n",
            "  *****\n",
            "   ****\n",
            "    ***\n",
            "     **\n",
            "      *\n"
          ]
        }
      ]
    },
    {
      "cell_type": "markdown",
      "source": [
        "# **Q.5 Remove duplicate words from Sentence using Regular Expression**\n",
        "# **regex = \"\\b(\\w+)(?:\\W+\\1\\b)+\";**\n",
        "\n",
        "1. The details of the above regular expression can be understood as: “\\b”: A word boundary. Boundaries are needed for special cases. For example, in “My thesis is great”, “is” wont be matched twice. “\\w+” A word character: [a-zA-Z_0-9]\n",
        "\n",
        "2. “\\W+”: A non-word character: [^\\w]\n",
        "\n",
        "3. “\\1”: Matches whatever was matched in the 1st group of parentheses, which in this case is the (\\w+)\n",
        "\n",
        "4. “+”: Match whatever it’s placed after 1 or more times\n",
        "\n",
        "1.  Match the sentence with the Regex. In Java, this can be done using Pattern.matcher().\n",
        "\n",
        "2. return the modified sentence."
      ],
      "metadata": {
        "id": "GyouzmNNY10j"
      }
    },
    {
      "cell_type": "code",
      "source": [
        "# Python program to remove duplicate words\n",
        "# using Regular Expression or ReGex.\n",
        "import re\n",
        " \n",
        " \n",
        "# Function to validate the sentence\n",
        "# and remove the duplicate words\n",
        "def removeDuplicateWords(input):\n",
        " \n",
        "    # Regex to matching repeated words\n",
        "    regex = r'\\b(\\w+)(?:\\W+\\1\\b)+'\n",
        " \n",
        "    return re.sub(regex, r'\\1', input, flags=re.IGNORECASE)\n",
        " \n",
        " \n",
        "# Driver Code\n",
        " \n",
        "# Test Case: 1\n",
        "str1 = \"Good bye bye world world\"\n",
        "print(removeDuplicateWords(str1))\n",
        " \n",
        "# Test Case: 2\n",
        "str2 = \"Ram went went to to his home\"\n",
        "print(removeDuplicateWords(str2))\n",
        " \n",
        "# Test Case: 3\n",
        "str3 = \"Hello hello world world\"\n",
        "print(removeDuplicateWords(str3))"
      ],
      "metadata": {
        "colab": {
          "base_uri": "https://localhost:8080/"
        },
        "id": "Owxm8iCnYOaD",
        "outputId": "ecb4730a-7f40-4fb3-debf-7c240d6571b7"
      },
      "execution_count": 5,
      "outputs": [
        {
          "output_type": "stream",
          "name": "stdout",
          "text": [
            "Good bye world\n",
            "Ram went to his home\n",
            "Hello world\n"
          ]
        }
      ]
    },
    {
      "cell_type": "markdown",
      "source": [
        "# **Q6.Python program to print all Prime numbers in an Interval**\n",
        "\n",
        "Definition: A prime number is a natural number greater than 1 that has no positive divisors other than 1 and itself. The first few prime numbers are {2, 3, 5, 7, 11, ….}.\n",
        "\n",
        "The idea to solve this problem is to iterate the val from start to end using a for loop and for every number, if it is greater than 1, check if it divides n. If we find any other number which divides, print that value."
      ],
      "metadata": {
        "id": "qhu3UJawZ-PY"
      }
    },
    {
      "cell_type": "code",
      "source": [
        "# Python program to print all\n",
        "# prime number in an interval\n",
        " \n",
        "def prime(x, y):\n",
        "    prime_list = []\n",
        "    for i in range(x, y):\n",
        "        if i == 0 or i == 1:\n",
        "            continue\n",
        "        else:\n",
        "            for j in range(2, int(i/2)+1):\n",
        "                if i % j == 0:\n",
        "                    break\n",
        "            else:\n",
        "                prime_list.append(i)\n",
        "    return prime_list\n",
        " \n",
        "# Driver program\n",
        "starting_range = 2\n",
        "ending_range = 7\n",
        "lst = prime(starting_range, ending_range)\n",
        "if len(lst) == 0:\n",
        "    print(\"There are no prime numbers in this range\")\n",
        "else:\n",
        "    print(\"The prime numbers in this range are: \", lst)"
      ],
      "metadata": {
        "colab": {
          "base_uri": "https://localhost:8080/"
        },
        "id": "-J-LHelQZ1g_",
        "outputId": "f27f1219-bc01-437a-ef75-d3c8a8be1dc1"
      },
      "execution_count": 6,
      "outputs": [
        {
          "output_type": "stream",
          "name": "stdout",
          "text": [
            "The prime numbers in this range are:  [2, 3, 5]\n"
          ]
        }
      ]
    },
    {
      "cell_type": "markdown",
      "source": [
        "# **Q7. Python Program for n-th Fibonacci number**\n",
        "\n",
        "In mathematical terms, the sequence Fn of Fibonacci numbers is defined by the recurrence relation\n",
        "\n",
        "**Fn = Fn-1 + Fn-2**\n",
        "\n",
        "**With seed values**\n",
        "\n",
        "**F0 = 0 and F1 = 1**"
      ],
      "metadata": {
        "id": "fc7V8DDJaRo9"
      }
    },
    {
      "cell_type": "code",
      "source": [
        "#Method 1 ( Use recursion ) :\n",
        "\n",
        "\n",
        "# Function for nth Fibonacci number\n",
        " \n",
        "def Fibonacci(n):\n",
        "    if n<= 0:\n",
        "        print(\"Incorrect input\")\n",
        "    # First Fibonacci number is 0\n",
        "    elif n == 1:\n",
        "        return 0\n",
        "    # Second Fibonacci number is 1\n",
        "    elif n == 2:\n",
        "        return 1\n",
        "    else:\n",
        "        return Fibonacci(n-1)+Fibonacci(n-2)\n",
        " \n",
        "# Driver Program\n",
        " \n",
        "print(Fibonacci(10))"
      ],
      "metadata": {
        "colab": {
          "base_uri": "https://localhost:8080/"
        },
        "id": "kGPG9OhkaHhZ",
        "outputId": "cd45eaac-2a66-4c94-a43e-83f4b30e8ebd"
      },
      "execution_count": 7,
      "outputs": [
        {
          "output_type": "stream",
          "name": "stdout",
          "text": [
            "34\n"
          ]
        }
      ]
    },
    {
      "cell_type": "code",
      "source": [
        "def fib(n):\n",
        "  if n<0 :\n",
        "    print('Incorrect Input')\n",
        "  elif n ==1 :\n",
        "    return 0\n",
        "  elif n==2 :\n",
        "    return 1\n",
        "  else:\n",
        "    return Fibonacci(n-1)+Fibonacci(n-2)"
      ],
      "metadata": {
        "id": "wyy1A4aSaryv"
      },
      "execution_count": 8,
      "outputs": []
    },
    {
      "cell_type": "code",
      "source": [
        "print(fib(10))"
      ],
      "metadata": {
        "colab": {
          "base_uri": "https://localhost:8080/"
        },
        "id": "Nsio9pjYaw4S",
        "outputId": "4f800533-4710-41e7-9bfe-568e80544432"
      },
      "execution_count": 9,
      "outputs": [
        {
          "output_type": "stream",
          "name": "stdout",
          "text": [
            "34\n"
          ]
        }
      ]
    },
    {
      "cell_type": "code",
      "source": [
        "#Method 2 ( Use Dynamic Programming ) : \n",
        "\n",
        "\n",
        "# Function for nth fibonacci number - Dynamic Programming\n",
        "# Taking 1st two fibonacci numbers as 0 and 1\n",
        " \n",
        "FibArray = [0, 1]\n",
        " \n",
        "def fibonacci(n):\n",
        "    if n<0:\n",
        "        print(\"Incorrect input\")\n",
        "    elif n<= len(FibArray):\n",
        "        return FibArray[n-1]\n",
        "    else:\n",
        "        temp_fib = fibonacci(n-1)+fibonacci(n-2)\n",
        "        FibArray.append(temp_fib)\n",
        "        return temp_fib\n",
        " \n",
        "# Driver Program\n",
        " \n",
        "print(fibonacci(9))"
      ],
      "metadata": {
        "colab": {
          "base_uri": "https://localhost:8080/"
        },
        "id": "fbKBLGhka0Av",
        "outputId": "51708560-6447-40c1-eb1a-97ea65196a0e"
      },
      "execution_count": 10,
      "outputs": [
        {
          "output_type": "stream",
          "name": "stdout",
          "text": [
            "21\n"
          ]
        }
      ]
    },
    {
      "cell_type": "code",
      "source": [
        "#Method 3 ( Use Dynamic Programming with Space Optimization) : \n",
        "\n",
        "\n",
        "# Function for nth fibonacci number - Space Optimisation\n",
        "# Taking 1st two fibonacci numbers as 0 and 1\n",
        " \n",
        "def fibonacci(n):\n",
        "    a = 0\n",
        "    b = 1\n",
        "    if n < 0:\n",
        "        print(\"Incorrect input\")\n",
        "    elif n == 0:\n",
        "        return a\n",
        "    elif n == 1:\n",
        "        return b\n",
        "    else:\n",
        "        for i in range(2, n):\n",
        "            c = a + b\n",
        "            a = b\n",
        "            b = c\n",
        "        return b\n",
        " \n",
        "# Driver Program\n",
        " \n",
        "print(fibonacci(9))"
      ],
      "metadata": {
        "colab": {
          "base_uri": "https://localhost:8080/"
        },
        "id": "3En37THaa5Av",
        "outputId": "7c9f923e-5e17-452b-90b3-c43788f1930d"
      },
      "execution_count": 11,
      "outputs": [
        {
          "output_type": "stream",
          "name": "stdout",
          "text": [
            "21\n"
          ]
        }
      ]
    },
    {
      "cell_type": "code",
      "source": [
        "#Method 4 ( Using Arrays ) : \n",
        "\n",
        "\n",
        "# creating an array in the function to find the nth number in fibonacci series. [0, 1, 1, ...]\n",
        " \n",
        "def fibonacci (n):\n",
        "   if n<= 0:\n",
        "     return \"Incorrect Output\"\n",
        "   data = [0, 1]\n",
        "   if n == 1:\n",
        "     return 1\n",
        "   if n==2:\n",
        "     return 1  \n",
        "   if n > 2:\n",
        "        for i in range (2, n):\n",
        "            data.append(data[i-1] + data[i-2])\n",
        "        return data[n-1]\n",
        " \n",
        "# Driver Program\n",
        " \n",
        "print(fibonacci(9))"
      ],
      "metadata": {
        "colab": {
          "base_uri": "https://localhost:8080/"
        },
        "id": "0sE7kwAUa9Ly",
        "outputId": "dcc2381d-6599-4c20-b852-2fc8673a4063"
      },
      "execution_count": 12,
      "outputs": [
        {
          "output_type": "stream",
          "name": "stdout",
          "text": [
            "21\n"
          ]
        }
      ]
    },
    {
      "cell_type": "code",
      "source": [
        "print(fibonacci(2))"
      ],
      "metadata": {
        "colab": {
          "base_uri": "https://localhost:8080/"
        },
        "id": "nWrnUiZ8a_6G",
        "outputId": "6a48caae-1bde-4617-ce35-c74be8d7d9aa"
      },
      "execution_count": 13,
      "outputs": [
        {
          "output_type": "stream",
          "name": "stdout",
          "text": [
            "1\n"
          ]
        }
      ]
    },
    {
      "cell_type": "markdown",
      "source": [
        "# **Q8. Python Program for cube sum of first n natural numbers**\n",
        "\n",
        "Print the sum of series 13 + 23 + 33 + 43 + …….+ n3 till n-th term. Examples:\n",
        "\n",
        "Input : n = 5\n",
        "\n",
        "Output : 225\n",
        "\n",
        "13 + 23 + 33 + 43 + 53 = 225\n",
        "\n",
        "Input : n = 7\n",
        "\n",
        "Output : 784 13 + 23 + 33 + 43 + 53 + 63 + 73 = 784"
      ],
      "metadata": {
        "id": "qcjwHWLhb1K6"
      }
    },
    {
      "cell_type": "code",
      "source": [
        "# Simple Python program to find sum of series\n",
        "# with cubes of first n natural numbers\n",
        " \n",
        "# Returns the sum of series\n",
        "def sumofseries(n):\n",
        "    x = 0\n",
        "    for i in range(1, n+1):\n",
        "        x +=i*i*i\n",
        "         \n",
        "    return x\n",
        " \n",
        "  \n",
        "# Driver Function\n",
        "n = 5\n",
        "print(sumofseries(n))"
      ],
      "metadata": {
        "colab": {
          "base_uri": "https://localhost:8080/"
        },
        "id": "GX0Z6VpEbCJa",
        "outputId": "dd5e3258-1783-42ec-b7d7-0acf935e4559"
      },
      "execution_count": 16,
      "outputs": [
        {
          "output_type": "stream",
          "name": "stdout",
          "text": [
            "225\n"
          ]
        }
      ]
    },
    {
      "cell_type": "code",
      "source": [
        "#Method: Finding cube sum of first n natural numbers using built-in function pow(). \n",
        "#The pow() function finds the cube of a number by giving the values of i and number. ex: pow(i,3). \n",
        "\n",
        "\n",
        "# Python code\n",
        "# to print cube sum of first n natural numbers\n",
        "# using inbuilt function pow()\n",
        " \n",
        "n=5\n",
        "s=0\n",
        "# iterating loop up to given number n\n",
        "for i in range(1,n+1):\n",
        "    # adding cube sum using pow() function\n",
        "    s=s+pow(i,3)\n",
        "print(s)"
      ],
      "metadata": {
        "colab": {
          "base_uri": "https://localhost:8080/"
        },
        "id": "IFpJdx3-b8wC",
        "outputId": "c9efb8bb-afdd-4f86-cd24-865aa6e067f8"
      },
      "execution_count": 15,
      "outputs": [
        {
          "output_type": "stream",
          "name": "stdout",
          "text": [
            "225\n"
          ]
        }
      ]
    },
    {
      "cell_type": "markdown",
      "source": [
        "# **Q9. Python Program to check if given array is Monotonic**\n",
        "\n",
        "Given an array A containing n integers. The task is to check whether the array is Monotonic or not. An array is monotonic if it is either monotone increasing or monotone decreasing.\n",
        "\n",
        "An array A is monotone increasing if for all i <= j, A[i] <= A[j]. An array A is monotone decreasing if for all i <= j, A[i] >= A[j].\n",
        "\n",
        "Return “True” if the given array A is monotonic else return “False”\n",
        "\n",
        "Approach:\n",
        "\n",
        "An array is monotonic if and only if it is monotone increasing, or monotone decreasing. Since p <= q and q <= r implies p <= r. So we only need to check adjacent elements to determine if the array is monotone increasing (or decreasing), respectively. We can check each of these properties in one pass.\n",
        "\n",
        "To check whether an array A is monotone increasing, we’ll check A[i] <= A[i+1] for all i indexing from 0 to len(A)-2. Similarly we can check for monotone decreasing where A[i] >= A[i+1] for all i indexing from 0 to len(A)-2.\n",
        "\n",
        "Note: Array with single element can be considered to be both monotonic increasing or decreasing, hence returns “True“"
      ],
      "metadata": {
        "id": "oxX5ZW3Pceba"
      }
    },
    {
      "cell_type": "code",
      "source": [
        "# Check if given array is Monotonic\n",
        "def isMonotonic(A):\n",
        "  \n",
        "    return (all(A[i] <= A[i + 1] for i in range(len(A) - 1)) or\n",
        "            all(A[i] >= A[i + 1] for i in range(len(A) - 1)))\n",
        "  \n",
        "# Driver program\n",
        "A = [6, 5, 4, 4]\n",
        "  \n",
        "# Print required result\n",
        "print(isMonotonic(A))"
      ],
      "metadata": {
        "colab": {
          "base_uri": "https://localhost:8080/"
        },
        "id": "HH6stysTcABF",
        "outputId": "5f3f075b-ada3-4561-a4b7-f2aa538cfeda"
      },
      "execution_count": 17,
      "outputs": [
        {
          "output_type": "stream",
          "name": "stdout",
          "text": [
            "True\n"
          ]
        }
      ]
    },
    {
      "cell_type": "code",
      "source": [
        "b = [10,11,12,15,14,12]\n",
        "\n",
        "print(isMonotonic(b))"
      ],
      "metadata": {
        "colab": {
          "base_uri": "https://localhost:8080/"
        },
        "id": "-7eUei2Mc6Ct",
        "outputId": "6a38867b-baa8-4915-ead2-9d51cc6932d8"
      },
      "execution_count": 18,
      "outputs": [
        {
          "output_type": "stream",
          "name": "stdout",
          "text": [
            "False\n"
          ]
        }
      ]
    },
    {
      "cell_type": "markdown",
      "source": [
        "# **Q10.Python program to find second largest number in a list**\n"
      ],
      "metadata": {
        "id": "q_bC8Z-Lc_4r"
      }
    },
    {
      "cell_type": "code",
      "source": [
        "# Python program to find largest number\n",
        "# in a list\n",
        " \n",
        "# List of numbers\n",
        "list1 = [10, 20, 20, 4, 45, 45, 45, 99, 99]\n",
        " \n",
        "# Removing duplicates from the list\n",
        "list2 = list(set(list1))\n",
        " \n",
        "# Sorting the  list\n",
        "list2.sort()\n",
        " \n",
        "# Printing the second last element\n",
        "print(\"Second largest element is:\", list2[-2])"
      ],
      "metadata": {
        "colab": {
          "base_uri": "https://localhost:8080/"
        },
        "id": "ICIV5O_Kc80R",
        "outputId": "be50b6e5-ac4d-4592-ba6c-8a66b3fadafe"
      },
      "execution_count": 19,
      "outputs": [
        {
          "output_type": "stream",
          "name": "stdout",
          "text": [
            "Second largest element is: 45\n"
          ]
        }
      ]
    },
    {
      "cell_type": "code",
      "source": [
        "# Python program to find second largest\n",
        "# number in a list\n",
        " \n",
        "# creating list of integer type\n",
        "list1 = [10, 20, 4, 45, 99]\n",
        " \n",
        "'''\n",
        "# sort the list   \n",
        "list1.sort()\n",
        "     \n",
        "# print second maximum element\n",
        "print(\"Second largest element is:\", list1[-2])\n",
        " \n",
        "'''\n",
        " \n",
        "# print second maximum element using sorted() method\n",
        "print(\"Second largest element is:\", sorted(list1)[-2])"
      ],
      "metadata": {
        "colab": {
          "base_uri": "https://localhost:8080/"
        },
        "id": "e1lBZoSqdLhK",
        "outputId": "40e4d635-9fe6-4065-e07c-ca7595afcba4"
      },
      "execution_count": 20,
      "outputs": [
        {
          "output_type": "stream",
          "name": "stdout",
          "text": [
            "Second largest element is: 45\n"
          ]
        }
      ]
    }
  ]
}